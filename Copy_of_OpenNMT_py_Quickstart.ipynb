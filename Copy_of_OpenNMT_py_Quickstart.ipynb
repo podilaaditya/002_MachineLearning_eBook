{
  "nbformat": 4,
  "nbformat_minor": 0,
  "metadata": {
    "colab": {
      "name": "Copy of OpenNMT-py Quickstart",
      "provenance": [],
      "include_colab_link": true
    },
    "kernelspec": {
      "name": "python3",
      "display_name": "Python 3"
    }
  },
  "cells": [
    {
      "cell_type": "markdown",
      "metadata": {
        "id": "view-in-github",
        "colab_type": "text"
      },
      "source": [
        "<a href=\"https://colab.research.google.com/github/podilaaditya/002_MachineLearning_eBook/blob/master/Copy_of_OpenNMT_py_Quickstart.ipynb\" target=\"_parent\"><img src=\"https://colab.research.google.com/assets/colab-badge.svg\" alt=\"Open In Colab\"/></a>"
      ]
    },
    {
      "cell_type": "code",
      "metadata": {
        "colab": {
          "base_uri": "https://localhost:8080/"
        },
        "id": "Sq5ZTwNic-cj",
        "outputId": "87d8132c-549b-4150-fb4a-a887a0580709"
      },
      "source": [
        "!pip install --upgrade pip"
      ],
      "execution_count": null,
      "outputs": [
        {
          "output_type": "stream",
          "text": [
            "Collecting pip\n",
            "\u001b[?25l  Downloading https://files.pythonhosted.org/packages/55/73/bce122d1ed0217b3c1a3439ab16dfa94bbeabd0d31755fcf907493abf39b/pip-20.3-py2.py3-none-any.whl (1.5MB)\n",
            "\r\u001b[K     |▏                               | 10kB 13.7MB/s eta 0:00:01\r\u001b[K     |▍                               | 20kB 11.1MB/s eta 0:00:01\r\u001b[K     |▋                               | 30kB 11.3MB/s eta 0:00:01\r\u001b[K     |▉                               | 40kB 8.0MB/s eta 0:00:01\r\u001b[K     |█                               | 51kB 4.4MB/s eta 0:00:01\r\u001b[K     |█▎                              | 61kB 4.7MB/s eta 0:00:01\r\u001b[K     |█▌                              | 71kB 4.9MB/s eta 0:00:01\r\u001b[K     |█▊                              | 81kB 5.3MB/s eta 0:00:01\r\u001b[K     |██                              | 92kB 5.5MB/s eta 0:00:01\r\u001b[K     |██▏                             | 102kB 5.7MB/s eta 0:00:01\r\u001b[K     |██▍                             | 112kB 5.7MB/s eta 0:00:01\r\u001b[K     |██▋                             | 122kB 5.7MB/s eta 0:00:01\r\u001b[K     |██▉                             | 133kB 5.7MB/s eta 0:00:01\r\u001b[K     |███                             | 143kB 5.7MB/s eta 0:00:01\r\u001b[K     |███▎                            | 153kB 5.7MB/s eta 0:00:01\r\u001b[K     |███▌                            | 163kB 5.7MB/s eta 0:00:01\r\u001b[K     |███▊                            | 174kB 5.7MB/s eta 0:00:01\r\u001b[K     |███▉                            | 184kB 5.7MB/s eta 0:00:01\r\u001b[K     |████                            | 194kB 5.7MB/s eta 0:00:01\r\u001b[K     |████▎                           | 204kB 5.7MB/s eta 0:00:01\r\u001b[K     |████▌                           | 215kB 5.7MB/s eta 0:00:01\r\u001b[K     |████▊                           | 225kB 5.7MB/s eta 0:00:01\r\u001b[K     |█████                           | 235kB 5.7MB/s eta 0:00:01\r\u001b[K     |█████▏                          | 245kB 5.7MB/s eta 0:00:01\r\u001b[K     |█████▍                          | 256kB 5.7MB/s eta 0:00:01\r\u001b[K     |█████▋                          | 266kB 5.7MB/s eta 0:00:01\r\u001b[K     |█████▉                          | 276kB 5.7MB/s eta 0:00:01\r\u001b[K     |██████                          | 286kB 5.7MB/s eta 0:00:01\r\u001b[K     |██████▎                         | 296kB 5.7MB/s eta 0:00:01\r\u001b[K     |██████▌                         | 307kB 5.7MB/s eta 0:00:01\r\u001b[K     |██████▊                         | 317kB 5.7MB/s eta 0:00:01\r\u001b[K     |███████                         | 327kB 5.7MB/s eta 0:00:01\r\u001b[K     |███████▏                        | 337kB 5.7MB/s eta 0:00:01\r\u001b[K     |███████▍                        | 348kB 5.7MB/s eta 0:00:01\r\u001b[K     |███████▌                        | 358kB 5.7MB/s eta 0:00:01\r\u001b[K     |███████▊                        | 368kB 5.7MB/s eta 0:00:01\r\u001b[K     |████████                        | 378kB 5.7MB/s eta 0:00:01\r\u001b[K     |████████▏                       | 389kB 5.7MB/s eta 0:00:01\r\u001b[K     |████████▍                       | 399kB 5.7MB/s eta 0:00:01\r\u001b[K     |████████▋                       | 409kB 5.7MB/s eta 0:00:01\r\u001b[K     |████████▉                       | 419kB 5.7MB/s eta 0:00:01\r\u001b[K     |█████████                       | 430kB 5.7MB/s eta 0:00:01\r\u001b[K     |█████████▎                      | 440kB 5.7MB/s eta 0:00:01\r\u001b[K     |█████████▌                      | 450kB 5.7MB/s eta 0:00:01\r\u001b[K     |█████████▊                      | 460kB 5.7MB/s eta 0:00:01\r\u001b[K     |██████████                      | 471kB 5.7MB/s eta 0:00:01\r\u001b[K     |██████████▏                     | 481kB 5.7MB/s eta 0:00:01\r\u001b[K     |██████████▍                     | 491kB 5.7MB/s eta 0:00:01\r\u001b[K     |██████████▋                     | 501kB 5.7MB/s eta 0:00:01\r\u001b[K     |██████████▉                     | 512kB 5.7MB/s eta 0:00:01\r\u001b[K     |███████████                     | 522kB 5.7MB/s eta 0:00:01\r\u001b[K     |███████████▎                    | 532kB 5.7MB/s eta 0:00:01\r\u001b[K     |███████████▍                    | 542kB 5.7MB/s eta 0:00:01\r\u001b[K     |███████████▋                    | 552kB 5.7MB/s eta 0:00:01\r\u001b[K     |███████████▉                    | 563kB 5.7MB/s eta 0:00:01\r\u001b[K     |████████████                    | 573kB 5.7MB/s eta 0:00:01\r\u001b[K     |████████████▎                   | 583kB 5.7MB/s eta 0:00:01\r\u001b[K     |████████████▌                   | 593kB 5.7MB/s eta 0:00:01\r\u001b[K     |████████████▊                   | 604kB 5.7MB/s eta 0:00:01\r\u001b[K     |█████████████                   | 614kB 5.7MB/s eta 0:00:01\r\u001b[K     |█████████████▏                  | 624kB 5.7MB/s eta 0:00:01\r\u001b[K     |█████████████▍                  | 634kB 5.7MB/s eta 0:00:01\r\u001b[K     |█████████████▋                  | 645kB 5.7MB/s eta 0:00:01\r\u001b[K     |█████████████▉                  | 655kB 5.7MB/s eta 0:00:01\r\u001b[K     |██████████████                  | 665kB 5.7MB/s eta 0:00:01\r\u001b[K     |██████████████▎                 | 675kB 5.7MB/s eta 0:00:01\r\u001b[K     |██████████████▌                 | 686kB 5.7MB/s eta 0:00:01\r\u001b[K     |██████████████▊                 | 696kB 5.7MB/s eta 0:00:01\r\u001b[K     |███████████████                 | 706kB 5.7MB/s eta 0:00:01\r\u001b[K     |███████████████                 | 716kB 5.7MB/s eta 0:00:01\r\u001b[K     |███████████████▎                | 727kB 5.7MB/s eta 0:00:01\r\u001b[K     |███████████████▌                | 737kB 5.7MB/s eta 0:00:01\r\u001b[K     |███████████████▊                | 747kB 5.7MB/s eta 0:00:01\r\u001b[K     |████████████████                | 757kB 5.7MB/s eta 0:00:01\r\u001b[K     |████████████████▏               | 768kB 5.7MB/s eta 0:00:01\r\u001b[K     |████████████████▍               | 778kB 5.7MB/s eta 0:00:01\r\u001b[K     |████████████████▋               | 788kB 5.7MB/s eta 0:00:01\r\u001b[K     |████████████████▉               | 798kB 5.7MB/s eta 0:00:01\r\u001b[K     |█████████████████               | 808kB 5.7MB/s eta 0:00:01\r\u001b[K     |█████████████████▎              | 819kB 5.7MB/s eta 0:00:01\r\u001b[K     |█████████████████▌              | 829kB 5.7MB/s eta 0:00:01\r\u001b[K     |█████████████████▊              | 839kB 5.7MB/s eta 0:00:01\r\u001b[K     |██████████████████              | 849kB 5.7MB/s eta 0:00:01\r\u001b[K     |██████████████████▏             | 860kB 5.7MB/s eta 0:00:01\r\u001b[K     |██████████████████▍             | 870kB 5.7MB/s eta 0:00:01\r\u001b[K     |██████████████████▋             | 880kB 5.7MB/s eta 0:00:01\r\u001b[K     |██████████████████▊             | 890kB 5.7MB/s eta 0:00:01\r\u001b[K     |███████████████████             | 901kB 5.7MB/s eta 0:00:01\r\u001b[K     |███████████████████▏            | 911kB 5.7MB/s eta 0:00:01\r\u001b[K     |███████████████████▍            | 921kB 5.7MB/s eta 0:00:01\r\u001b[K     |███████████████████▋            | 931kB 5.7MB/s eta 0:00:01\r\u001b[K     |███████████████████▉            | 942kB 5.7MB/s eta 0:00:01\r\u001b[K     |████████████████████            | 952kB 5.7MB/s eta 0:00:01\r\u001b[K     |████████████████████▎           | 962kB 5.7MB/s eta 0:00:01\r\u001b[K     |████████████████████▌           | 972kB 5.7MB/s eta 0:00:01\r\u001b[K     |████████████████████▊           | 983kB 5.7MB/s eta 0:00:01\r\u001b[K     |█████████████████████           | 993kB 5.7MB/s eta 0:00:01\r\u001b[K     |█████████████████████▏          | 1.0MB 5.7MB/s eta 0:00:01\r\u001b[K     |█████████████████████▍          | 1.0MB 5.7MB/s eta 0:00:01\r\u001b[K     |█████████████████████▋          | 1.0MB 5.7MB/s eta 0:00:01\r\u001b[K     |█████████████████████▉          | 1.0MB 5.7MB/s eta 0:00:01\r\u001b[K     |██████████████████████          | 1.0MB 5.7MB/s eta 0:00:01\r\u001b[K     |██████████████████████▎         | 1.1MB 5.7MB/s eta 0:00:01\r\u001b[K     |██████████████████████▌         | 1.1MB 5.7MB/s eta 0:00:01\r\u001b[K     |██████████████████████▋         | 1.1MB 5.7MB/s eta 0:00:01\r\u001b[K     |██████████████████████▉         | 1.1MB 5.7MB/s eta 0:00:01\r\u001b[K     |███████████████████████         | 1.1MB 5.7MB/s eta 0:00:01\r\u001b[K     |███████████████████████▎        | 1.1MB 5.7MB/s eta 0:00:01\r\u001b[K     |███████████████████████▌        | 1.1MB 5.7MB/s eta 0:00:01\r\u001b[K     |███████████████████████▊        | 1.1MB 5.7MB/s eta 0:00:01\r\u001b[K     |████████████████████████        | 1.1MB 5.7MB/s eta 0:00:01\r\u001b[K     |████████████████████████▏       | 1.1MB 5.7MB/s eta 0:00:01\r\u001b[K     |████████████████████████▍       | 1.2MB 5.7MB/s eta 0:00:01\r\u001b[K     |████████████████████████▋       | 1.2MB 5.7MB/s eta 0:00:01\r\u001b[K     |████████████████████████▉       | 1.2MB 5.7MB/s eta 0:00:01\r\u001b[K     |█████████████████████████       | 1.2MB 5.7MB/s eta 0:00:01\r\u001b[K     |█████████████████████████▎      | 1.2MB 5.7MB/s eta 0:00:01\r\u001b[K     |█████████████████████████▌      | 1.2MB 5.7MB/s eta 0:00:01\r\u001b[K     |█████████████████████████▊      | 1.2MB 5.7MB/s eta 0:00:01\r\u001b[K     |██████████████████████████      | 1.2MB 5.7MB/s eta 0:00:01\r\u001b[K     |██████████████████████████▏     | 1.2MB 5.7MB/s eta 0:00:01\r\u001b[K     |██████████████████████████▎     | 1.2MB 5.7MB/s eta 0:00:01\r\u001b[K     |██████████████████████████▌     | 1.3MB 5.7MB/s eta 0:00:01\r\u001b[K     |██████████████████████████▊     | 1.3MB 5.7MB/s eta 0:00:01\r\u001b[K     |███████████████████████████     | 1.3MB 5.7MB/s eta 0:00:01\r\u001b[K     |███████████████████████████▏    | 1.3MB 5.7MB/s eta 0:00:01\r\u001b[K     |███████████████████████████▍    | 1.3MB 5.7MB/s eta 0:00:01\r\u001b[K     |███████████████████████████▋    | 1.3MB 5.7MB/s eta 0:00:01\r\u001b[K     |███████████████████████████▉    | 1.3MB 5.7MB/s eta 0:00:01\r\u001b[K     |████████████████████████████    | 1.3MB 5.7MB/s eta 0:00:01\r\u001b[K     |████████████████████████████▎   | 1.3MB 5.7MB/s eta 0:00:01\r\u001b[K     |████████████████████████████▌   | 1.4MB 5.7MB/s eta 0:00:01\r\u001b[K     |████████████████████████████▊   | 1.4MB 5.7MB/s eta 0:00:01\r\u001b[K     |█████████████████████████████   | 1.4MB 5.7MB/s eta 0:00:01\r\u001b[K     |█████████████████████████████▏  | 1.4MB 5.7MB/s eta 0:00:01\r\u001b[K     |█████████████████████████████▍  | 1.4MB 5.7MB/s eta 0:00:01\r\u001b[K     |█████████████████████████████▋  | 1.4MB 5.7MB/s eta 0:00:01\r\u001b[K     |█████████████████████████████▉  | 1.4MB 5.7MB/s eta 0:00:01\r\u001b[K     |██████████████████████████████  | 1.4MB 5.7MB/s eta 0:00:01\r\u001b[K     |██████████████████████████████▏ | 1.4MB 5.7MB/s eta 0:00:01\r\u001b[K     |██████████████████████████████▍ | 1.4MB 5.7MB/s eta 0:00:01\r\u001b[K     |██████████████████████████████▋ | 1.5MB 5.7MB/s eta 0:00:01\r\u001b[K     |██████████████████████████████▉ | 1.5MB 5.7MB/s eta 0:00:01\r\u001b[K     |███████████████████████████████ | 1.5MB 5.7MB/s eta 0:00:01\r\u001b[K     |███████████████████████████████▎| 1.5MB 5.7MB/s eta 0:00:01\r\u001b[K     |███████████████████████████████▌| 1.5MB 5.7MB/s eta 0:00:01\r\u001b[K     |███████████████████████████████▊| 1.5MB 5.7MB/s eta 0:00:01\r\u001b[K     |████████████████████████████████| 1.5MB 5.7MB/s eta 0:00:01\r\u001b[K     |████████████████████████████████| 1.5MB 5.7MB/s \n",
            "\u001b[?25hInstalling collected packages: pip\n",
            "  Found existing installation: pip 19.3.1\n",
            "    Uninstalling pip-19.3.1:\n",
            "      Successfully uninstalled pip-19.3.1\n",
            "Successfully installed pip-20.3\n"
          ],
          "name": "stdout"
        }
      ]
    },
    {
      "cell_type": "code",
      "metadata": {
        "colab": {
          "base_uri": "https://localhost:8080/"
        },
        "id": "sRJBhiY-dH7o",
        "outputId": "1e51ff20-a437-4879-f2ee-2ab709b499fc"
      },
      "source": [
        "!pip install OpenNMT-py==2.0.0rc2"
      ],
      "execution_count": null,
      "outputs": [
        {
          "output_type": "stream",
          "text": [
            "Collecting OpenNMT-py==2.0.0rc2\n",
            "  Downloading OpenNMT_py-2.0.0rc2-py3-none-any.whl (199 kB)\n",
            "\u001b[K     |████████████████████████████████| 199 kB 5.9 MB/s \n",
            "\u001b[?25hRequirement already satisfied: torch>=1.6.0 in /usr/local/lib/python3.6/dist-packages (from OpenNMT-py==2.0.0rc2) (1.7.0+cu101)\n",
            "Requirement already satisfied: pyyaml in /usr/local/lib/python3.6/dist-packages (from OpenNMT-py==2.0.0rc2) (3.13)\n",
            "Requirement already satisfied: tqdm in /usr/local/lib/python3.6/dist-packages (from OpenNMT-py==2.0.0rc2) (4.41.1)\n",
            "Requirement already satisfied: future in /usr/local/lib/python3.6/dist-packages (from OpenNMT-py==2.0.0rc2) (0.16.0)\n",
            "Requirement already satisfied: six in /usr/local/lib/python3.6/dist-packages (from OpenNMT-py==2.0.0rc2) (1.15.0)\n",
            "Requirement already satisfied: flask in /usr/local/lib/python3.6/dist-packages (from OpenNMT-py==2.0.0rc2) (1.1.2)\n",
            "Requirement already satisfied: tensorboard>=1.14 in /usr/local/lib/python3.6/dist-packages (from OpenNMT-py==2.0.0rc2) (2.3.0)\n",
            "Collecting configargparse\n",
            "  Downloading ConfigArgParse-1.2.3.tar.gz (42 kB)\n",
            "\u001b[K     |████████████████████████████████| 42 kB 1.2 MB/s \n",
            "\u001b[?25hRequirement already satisfied: Jinja2>=2.10.1 in /usr/local/lib/python3.6/dist-packages (from flask->OpenNMT-py==2.0.0rc2) (2.11.2)\n",
            "Requirement already satisfied: Werkzeug>=0.15 in /usr/local/lib/python3.6/dist-packages (from flask->OpenNMT-py==2.0.0rc2) (1.0.1)\n",
            "Requirement already satisfied: click>=5.1 in /usr/local/lib/python3.6/dist-packages (from flask->OpenNMT-py==2.0.0rc2) (7.1.2)\n",
            "Requirement already satisfied: itsdangerous>=0.24 in /usr/local/lib/python3.6/dist-packages (from flask->OpenNMT-py==2.0.0rc2) (1.1.0)\n",
            "Requirement already satisfied: MarkupSafe>=0.23 in /usr/local/lib/python3.6/dist-packages (from Jinja2>=2.10.1->flask->OpenNMT-py==2.0.0rc2) (1.1.1)\n",
            "Collecting pyonmttok>=1.22.*\n",
            "  Downloading pyonmttok-1.22.2-cp36-cp36m-manylinux1_x86_64.whl (2.5 MB)\n",
            "\u001b[K     |████████████████████████████████| 2.5 MB 33.3 MB/s \n",
            "\u001b[?25hRequirement already satisfied: setuptools>=41.0.0 in /usr/local/lib/python3.6/dist-packages (from tensorboard>=1.14->OpenNMT-py==2.0.0rc2) (50.3.2)\n",
            "Requirement already satisfied: numpy>=1.12.0 in /usr/local/lib/python3.6/dist-packages (from tensorboard>=1.14->OpenNMT-py==2.0.0rc2) (1.18.5)\n",
            "Requirement already satisfied: tensorboard-plugin-wit>=1.6.0 in /usr/local/lib/python3.6/dist-packages (from tensorboard>=1.14->OpenNMT-py==2.0.0rc2) (1.7.0)\n",
            "Requirement already satisfied: requests<3,>=2.21.0 in /usr/local/lib/python3.6/dist-packages (from tensorboard>=1.14->OpenNMT-py==2.0.0rc2) (2.23.0)\n",
            "Requirement already satisfied: wheel>=0.26 in /usr/local/lib/python3.6/dist-packages (from tensorboard>=1.14->OpenNMT-py==2.0.0rc2) (0.35.1)\n",
            "Requirement already satisfied: Werkzeug>=0.15 in /usr/local/lib/python3.6/dist-packages (from flask->OpenNMT-py==2.0.0rc2) (1.0.1)\n",
            "Requirement already satisfied: google-auth-oauthlib<0.5,>=0.4.1 in /usr/local/lib/python3.6/dist-packages (from tensorboard>=1.14->OpenNMT-py==2.0.0rc2) (0.4.2)\n",
            "Requirement already satisfied: six in /usr/local/lib/python3.6/dist-packages (from OpenNMT-py==2.0.0rc2) (1.15.0)\n",
            "Requirement already satisfied: google-auth<2,>=1.6.3 in /usr/local/lib/python3.6/dist-packages (from tensorboard>=1.14->OpenNMT-py==2.0.0rc2) (1.17.2)\n",
            "Requirement already satisfied: grpcio>=1.24.3 in /usr/local/lib/python3.6/dist-packages (from tensorboard>=1.14->OpenNMT-py==2.0.0rc2) (1.33.2)\n",
            "Requirement already satisfied: markdown>=2.6.8 in /usr/local/lib/python3.6/dist-packages (from tensorboard>=1.14->OpenNMT-py==2.0.0rc2) (3.3.3)\n",
            "Requirement already satisfied: protobuf>=3.6.0 in /usr/local/lib/python3.6/dist-packages (from tensorboard>=1.14->OpenNMT-py==2.0.0rc2) (3.12.4)\n",
            "Requirement already satisfied: absl-py>=0.4 in /usr/local/lib/python3.6/dist-packages (from tensorboard>=1.14->OpenNMT-py==2.0.0rc2) (0.10.0)\n",
            "Requirement already satisfied: six in /usr/local/lib/python3.6/dist-packages (from OpenNMT-py==2.0.0rc2) (1.15.0)\n",
            "Requirement already satisfied: cachetools<5.0,>=2.0.0 in /usr/local/lib/python3.6/dist-packages (from google-auth<2,>=1.6.3->tensorboard>=1.14->OpenNMT-py==2.0.0rc2) (4.1.1)\n",
            "Requirement already satisfied: pyasn1-modules>=0.2.1 in /usr/local/lib/python3.6/dist-packages (from google-auth<2,>=1.6.3->tensorboard>=1.14->OpenNMT-py==2.0.0rc2) (0.2.8)\n",
            "Requirement already satisfied: six in /usr/local/lib/python3.6/dist-packages (from OpenNMT-py==2.0.0rc2) (1.15.0)\n",
            "Requirement already satisfied: setuptools>=41.0.0 in /usr/local/lib/python3.6/dist-packages (from tensorboard>=1.14->OpenNMT-py==2.0.0rc2) (50.3.2)\n",
            "Requirement already satisfied: rsa<5,>=3.1.4 in /usr/local/lib/python3.6/dist-packages (from google-auth<2,>=1.6.3->tensorboard>=1.14->OpenNMT-py==2.0.0rc2) (4.6)\n",
            "Requirement already satisfied: requests-oauthlib>=0.7.0 in /usr/local/lib/python3.6/dist-packages (from google-auth-oauthlib<0.5,>=0.4.1->tensorboard>=1.14->OpenNMT-py==2.0.0rc2) (1.3.0)\n",
            "Requirement already satisfied: google-auth<2,>=1.6.3 in /usr/local/lib/python3.6/dist-packages (from tensorboard>=1.14->OpenNMT-py==2.0.0rc2) (1.17.2)\n",
            "Requirement already satisfied: six in /usr/local/lib/python3.6/dist-packages (from OpenNMT-py==2.0.0rc2) (1.15.0)\n",
            "Requirement already satisfied: importlib-metadata in /usr/local/lib/python3.6/dist-packages (from markdown>=2.6.8->tensorboard>=1.14->OpenNMT-py==2.0.0rc2) (2.0.0)\n",
            "Requirement already satisfied: zipp>=0.5 in /usr/local/lib/python3.6/dist-packages (from importlib-metadata->markdown>=2.6.8->tensorboard>=1.14->OpenNMT-py==2.0.0rc2) (3.4.0)\n",
            "Requirement already satisfied: six in /usr/local/lib/python3.6/dist-packages (from OpenNMT-py==2.0.0rc2) (1.15.0)\n",
            "Requirement already satisfied: setuptools>=41.0.0 in /usr/local/lib/python3.6/dist-packages (from tensorboard>=1.14->OpenNMT-py==2.0.0rc2) (50.3.2)\n",
            "Requirement already satisfied: pyasn1<0.5.0,>=0.4.6 in /usr/local/lib/python3.6/dist-packages (from pyasn1-modules>=0.2.1->google-auth<2,>=1.6.3->tensorboard>=1.14->OpenNMT-py==2.0.0rc2) (0.4.8)\n",
            "Requirement already satisfied: chardet<4,>=3.0.2 in /usr/local/lib/python3.6/dist-packages (from requests<3,>=2.21.0->tensorboard>=1.14->OpenNMT-py==2.0.0rc2) (3.0.4)\n",
            "Requirement already satisfied: certifi>=2017.4.17 in /usr/local/lib/python3.6/dist-packages (from requests<3,>=2.21.0->tensorboard>=1.14->OpenNMT-py==2.0.0rc2) (2020.11.8)\n",
            "Requirement already satisfied: urllib3!=1.25.0,!=1.25.1,<1.26,>=1.21.1 in /usr/local/lib/python3.6/dist-packages (from requests<3,>=2.21.0->tensorboard>=1.14->OpenNMT-py==2.0.0rc2) (1.24.3)\n",
            "Requirement already satisfied: idna<3,>=2.5 in /usr/local/lib/python3.6/dist-packages (from requests<3,>=2.21.0->tensorboard>=1.14->OpenNMT-py==2.0.0rc2) (2.10)\n",
            "Requirement already satisfied: oauthlib>=3.0.0 in /usr/local/lib/python3.6/dist-packages (from requests-oauthlib>=0.7.0->google-auth-oauthlib<0.5,>=0.4.1->tensorboard>=1.14->OpenNMT-py==2.0.0rc2) (3.1.0)\n",
            "Requirement already satisfied: requests<3,>=2.21.0 in /usr/local/lib/python3.6/dist-packages (from tensorboard>=1.14->OpenNMT-py==2.0.0rc2) (2.23.0)\n",
            "Requirement already satisfied: pyasn1<0.5.0,>=0.4.6 in /usr/local/lib/python3.6/dist-packages (from pyasn1-modules>=0.2.1->google-auth<2,>=1.6.3->tensorboard>=1.14->OpenNMT-py==2.0.0rc2) (0.4.8)\n",
            "Requirement already satisfied: dataclasses in /usr/local/lib/python3.6/dist-packages (from torch>=1.6.0->OpenNMT-py==2.0.0rc2) (0.8)\n",
            "Requirement already satisfied: numpy>=1.12.0 in /usr/local/lib/python3.6/dist-packages (from tensorboard>=1.14->OpenNMT-py==2.0.0rc2) (1.18.5)\n",
            "Requirement already satisfied: typing-extensions in /usr/local/lib/python3.6/dist-packages (from torch>=1.6.0->OpenNMT-py==2.0.0rc2) (3.7.4.3)\n",
            "Requirement already satisfied: future in /usr/local/lib/python3.6/dist-packages (from OpenNMT-py==2.0.0rc2) (0.16.0)\n",
            "Collecting torchtext==0.4.0\n",
            "  Downloading torchtext-0.4.0-py3-none-any.whl (53 kB)\n",
            "\u001b[K     |████████████████████████████████| 53 kB 1.4 MB/s \n",
            "\u001b[?25hRequirement already satisfied: torch>=1.6.0 in /usr/local/lib/python3.6/dist-packages (from OpenNMT-py==2.0.0rc2) (1.7.0+cu101)\n",
            "Requirement already satisfied: numpy>=1.12.0 in /usr/local/lib/python3.6/dist-packages (from tensorboard>=1.14->OpenNMT-py==2.0.0rc2) (1.18.5)\n",
            "Requirement already satisfied: requests<3,>=2.21.0 in /usr/local/lib/python3.6/dist-packages (from tensorboard>=1.14->OpenNMT-py==2.0.0rc2) (2.23.0)\n",
            "Requirement already satisfied: tqdm in /usr/local/lib/python3.6/dist-packages (from OpenNMT-py==2.0.0rc2) (4.41.1)\n",
            "Requirement already satisfied: six in /usr/local/lib/python3.6/dist-packages (from OpenNMT-py==2.0.0rc2) (1.15.0)\n",
            "Collecting waitress\n",
            "  Downloading waitress-1.4.4-py2.py3-none-any.whl (58 kB)\n",
            "\u001b[K     |████████████████████████████████| 58 kB 4.3 MB/s \n",
            "\u001b[?25hBuilding wheels for collected packages: configargparse\n",
            "  Building wheel for configargparse (setup.py) ... \u001b[?25l\u001b[?25hdone\n",
            "  Created wheel for configargparse: filename=ConfigArgParse-1.2.3-py3-none-any.whl size=19328 sha256=2d6916c7b67ad43cc83aa752cc42291fff1bd1267f85691cdb20887c9cf7b997\n",
            "  Stored in directory: /root/.cache/pip/wheels/ee/c1/ad/ab1d6fd3b6e32d4444fe79f88d8832689a0d3c3a74188051ea\n",
            "Successfully built configargparse\n",
            "Installing collected packages: waitress, torchtext, pyonmttok, configargparse, OpenNMT-py\n",
            "  Attempting uninstall: torchtext\n",
            "    Found existing installation: torchtext 0.3.1\n",
            "    Uninstalling torchtext-0.3.1:\n",
            "      Successfully uninstalled torchtext-0.3.1\n",
            "Successfully installed OpenNMT-py-2.0.0rc2 configargparse-1.2.3 pyonmttok-1.22.2 torchtext-0.4.0 waitress-1.4.4\n"
          ],
          "name": "stdout"
        }
      ]
    },
    {
      "cell_type": "code",
      "metadata": {
        "colab": {
          "base_uri": "https://localhost:8080/"
        },
        "id": "vG3QQS4XdOXH",
        "outputId": "2f103e74-5256-4cc6-9f22-e79040c60f5f"
      },
      "source": [
        "!wget https://s3.amazonaws.com/opennmt-trainingdata/toy-ende.tar.gz"
      ],
      "execution_count": null,
      "outputs": [
        {
          "output_type": "stream",
          "text": [
            "--2020-12-01 08:39:43--  https://s3.amazonaws.com/opennmt-trainingdata/toy-ende.tar.gz\n",
            "Resolving s3.amazonaws.com (s3.amazonaws.com)... 52.217.96.206\n",
            "Connecting to s3.amazonaws.com (s3.amazonaws.com)|52.217.96.206|:443... connected.\n",
            "HTTP request sent, awaiting response... 200 OK\n",
            "Length: 1662081 (1.6M) [application/x-gzip]\n",
            "Saving to: ‘toy-ende.tar.gz’\n",
            "\n",
            "toy-ende.tar.gz     100%[===================>]   1.58M  --.-KB/s    in 0.09s   \n",
            "\n",
            "2020-12-01 08:39:43 (18.5 MB/s) - ‘toy-ende.tar.gz’ saved [1662081/1662081]\n",
            "\n"
          ],
          "name": "stdout"
        }
      ]
    },
    {
      "cell_type": "code",
      "metadata": {
        "id": "OIWrnz0rdSld"
      },
      "source": [
        "!tar xf toy-ende.tar.gz"
      ],
      "execution_count": null,
      "outputs": []
    },
    {
      "cell_type": "code",
      "metadata": {
        "colab": {
          "base_uri": "https://localhost:8080/"
        },
        "id": "bwsjvSFCdSpK",
        "outputId": "9e16ce2a-fdaf-46f3-ac25-4aae369df264"
      },
      "source": [
        "!ls toy-ende"
      ],
      "execution_count": null,
      "outputs": [
        {
          "output_type": "stream",
          "text": [
            "src-test.txt   src-val.txt   tgt-train.txt\n",
            "src-train.txt  tgt-test.txt  tgt-val.txt\n"
          ],
          "name": "stdout"
        }
      ]
    },
    {
      "cell_type": "code",
      "metadata": {
        "id": "rezJ5uwwdSrr"
      },
      "source": [
        "with open(\"toy_en_de.yaml\", \"w\") as f:\n",
        "  f.write(\"\"\"# toy_en_de.yaml\n",
        "\n",
        "## Where the samples will be written\n",
        "save_data: toy-ende2/run/example\n",
        "## Where the vocab(s) will be written\n",
        "src_vocab: toy-ende2/run/example.vocab.src\n",
        "tgt_vocab: toy-ende2/run/example.vocab.tgt\n",
        "# Prevent overwriting existing files in the folder\n",
        "overwrite: False\n",
        "\n",
        "# Corpus opts:\n",
        "data:\n",
        "    corpus_1:\n",
        "        path_src: toy-ende/src-train.txt\n",
        "        path_tgt: toy-ende/tgt-train.txt\n",
        "    valid:\n",
        "        path_src: toy-ende/src-val.txt\n",
        "        path_tgt: toy-ende/tgt-val.txt\"\"\")"
      ],
      "execution_count": null,
      "outputs": []
    },
    {
      "cell_type": "code",
      "metadata": {
        "colab": {
          "base_uri": "https://localhost:8080/"
        },
        "id": "AC-pCrpBdSuT",
        "outputId": "215617b4-7d47-48d7-bf57-666e89f5a349"
      },
      "source": [
        "!onmt_build_vocab -config toy_en_de.yaml -n_sample 1000"
      ],
      "execution_count": null,
      "outputs": [
        {
          "output_type": "stream",
          "text": [
            "Corpus corpus_1's weight should be given. We default it to 1 for you.\n",
            "[2020-12-01 08:42:48,455 INFO] Counter vocab from 1000 samples.\n",
            "[2020-12-01 08:42:48,456 INFO] Build vocab on 1000 transformed examples/corpus.\n",
            "[2020-12-01 08:42:48,463 INFO] corpus_1's transforms: TransformPipe()\n",
            "[2020-12-01 08:42:48,464 INFO] Loading ParallelCorpus(toy-ende/src-train.txt, toy-ende/tgt-train.txt, align=None)...\n",
            "[2020-12-01 08:42:48,565 INFO] Counters src:5812\n",
            "[2020-12-01 08:42:48,565 INFO] Counters tgt:6810\n"
          ],
          "name": "stdout"
        }
      ]
    }
  ]
}